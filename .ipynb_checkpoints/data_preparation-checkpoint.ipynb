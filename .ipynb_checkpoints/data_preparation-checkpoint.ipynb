{
 "cells": [
  {
   "cell_type": "code",
   "execution_count": 2,
   "metadata": {
    "collapsed": false
   },
   "outputs": [],
   "source": [
    "import numpy as np\n",
    "import matplotlib.pyplot as plt\n",
    "%matplotlib inline\n",
    "import scipy.io\n",
    "from operator import itemgetter\n",
    "import pandas as pd\n",
    "from sklearn.cross_validation import train_test_split\n",
    "\n",
    "import csv\n",
    "import nupic"
   ]
  },
  {
   "cell_type": "code",
   "execution_count": 2,
   "metadata": {
    "collapsed": false
   },
   "outputs": [
    {
     "name": "stdout",
     "output_type": "stream",
     "text": [
      "['a', 'PWAcc', '__header__', '__globals__', 'SelChanIndices', '__version__']\n"
     ]
    }
   ],
   "source": [
    "data = scipy.io.loadmat('./code/SANDBOX/PWAccSSD4x4.mat') \n",
    "#data = scipy.io.loadmat('0705_alex_im_first.mat') \n",
    "print data.keys()"
   ]
  },
  {
   "cell_type": "code",
   "execution_count": 18,
   "metadata": {
    "collapsed": false
   },
   "outputs": [],
   "source": [
    "# temp = data['a'][0][0]\n",
    "# print temp[0].shape\n",
    "# print '\\n', temp[0]"
   ]
  },
  {
   "cell_type": "code",
   "execution_count": 43,
   "metadata": {
    "collapsed": false
   },
   "outputs": [
    {
     "name": "stdout",
     "output_type": "stream",
     "text": [
      "['w1', 'w2', 'w3', 'w4', 'w5', 'w6']\n"
     ]
    }
   ],
   "source": [
    "# fieldnames = ['w' + str(i+1) for i in range(6)]\n",
    "# fieldtypes = ['float' for i in range(6)]\n",
    "# fieldflags = ['S' for i in range(6)]\n",
    "# print fieldnames"
   ]
  },
  {
   "cell_type": "code",
   "execution_count": 3,
   "metadata": {
    "collapsed": false
   },
   "outputs": [],
   "source": [
    "# columns = pd.MultiIndex.from_tuples(\n",
    "#     zip(['w' + str(i+1) for i in range(6)], \n",
    "#         ['float' for i in range(6)], \n",
    "#         ['S' for i in range(6)]))\n",
    "# df = pd.DataFrame(temp[0], columns=columns)\n",
    "# df.to_csv('data_temp1.csv', index=False)\n",
    "# df"
   ]
  },
  {
   "cell_type": "code",
   "execution_count": null,
   "metadata": {
    "collapsed": true
   },
   "outputs": [],
   "source": []
  },
  {
   "cell_type": "code",
   "execution_count": 4,
   "metadata": {
    "collapsed": false
   },
   "outputs": [
    {
     "name": "stdout",
     "output_type": "stream",
     "text": [
      "['__version__', '__globals__', '__header__', 'chan_names', 'states_cur', 'data_cur', 'srate']\n",
      "(24, 100717) (1, 100717)\n",
      "[[ -3.02503101e+03  -3.02501318e+03  -3.02519214e+03 ...,   0.00000000e+00\n",
      "    0.00000000e+00   0.00000000e+00]\n",
      " [ -3.89819751e+03  -3.90012866e+03  -3.90227441e+03 ...,   0.00000000e+00\n",
      "    0.00000000e+00   0.00000000e+00]\n",
      " [ -5.94164746e+03  -5.93876855e+03  -5.93717676e+03 ...,   0.00000000e+00\n",
      "    0.00000000e+00   0.00000000e+00]\n",
      " ..., \n",
      " [ -6.77808545e+03  -6.77838916e+03  -6.75793311e+03 ...,   0.00000000e+00\n",
      "    0.00000000e+00   0.00000000e+00]\n",
      " [ -1.31518008e+04  -1.31504600e+04  -1.31444697e+04 ...,   0.00000000e+00\n",
      "    0.00000000e+00   0.00000000e+00]\n",
      " [ -1.78813934e-02  -1.78813934e-02  -1.78813934e-02 ...,   0.00000000e+00\n",
      "    0.00000000e+00   0.00000000e+00]]\n"
     ]
    }
   ],
   "source": [
    "data = scipy.io.loadmat('./lab_data/24chan/alex_long_1.mat') \n",
    "print data.keys()\n",
    "print data['data_cur'].shape, data['states_cur'].shape\n",
    "print data['data_cur']"
   ]
  },
  {
   "cell_type": "code",
   "execution_count": 5,
   "metadata": {
    "collapsed": false
   },
   "outputs": [
    {
     "name": "stdout",
     "output_type": "stream",
     "text": [
      "[1 1 1 ..., 6 6 6]\n",
      "[1 2 6]\n"
     ]
    },
    {
     "data": {
      "text/plain": [
       "[<matplotlib.lines.Line2D at 0x7f0860789690>]"
      ]
     },
     "execution_count": 5,
     "metadata": {},
     "output_type": "execute_result"
    },
    {
     "data": {
      "image/png": "[encoded data removed]",
      "text/plain": [
       "<matplotlib.figure.Figure at 0x7f0860789710>"
      ]
     },
     "metadata": {},
     "output_type": "display_data"
    }
   ],
   "source": [
    "print data['states_cur'][0]\n",
    "print np.unique(data['states_cur'][0])\n",
    "plt.plot(range(len(data['states_cur'][0])), data['states_cur'][0], '.r')"
   ]
  },
  {
   "cell_type": "code",
   "execution_count": 6,
   "metadata": {
    "collapsed": false
   },
   "outputs": [
    {
     "data": {
      "text/plain": [
       "[<matplotlib.lines.Line2D at 0x7f0827e3ded0>]"
      ]
     },
     "execution_count": 6,
     "metadata": {},
     "output_type": "execute_result"
    },
    {
     "data": {
      "image/png": "[encoded data removed]",
      "text/plain": [
       "<matplotlib.figure.Figure at 0x7f0860789190>"
      ]
     },
     "metadata": {},
     "output_type": "display_data"
    }
   ],
   "source": [
    "plt.plot(range(len(data['states_cur'][0])), data['data_cur'][0], '-b')\n",
    "plt.plot(range(len(data['states_cur'][0])), data['data_cur'][1], '-r')\n",
    "plt.plot(range(len(data['states_cur'][0])), data['data_cur'][2], '-g')"
   ]
  },
  {
   "cell_type": "code",
   "execution_count": 7,
   "metadata": {
    "collapsed": false
   },
   "outputs": [
    {
     "name": "stdout",
     "output_type": "stream",
     "text": [
      "            0            1            2           3           4           5   \\\n",
      "0 -3025.031006 -3898.197510 -5941.647461 -143.265717  223.767761 -896.394226   \n",
      "1 -3025.013184 -3900.128662 -5938.768555 -139.367584  225.287674 -896.894958   \n",
      "2 -3025.192139 -3902.274414 -5937.176758 -138.205292  225.430725 -896.054504   \n",
      "3 -3022.474121 -3898.537109 -5932.116699 -136.184692  228.291748 -893.175598   \n",
      "4 -3019.648682 -3890.043457 -5928.969238 -131.589172  232.779984 -891.941772   \n",
      "\n",
      "             6            7             8            9  ...            15  \\\n",
      "0 -11081.028320 -9336.876953 -50944.109375 -8007.466797 ... -31958.019531   \n",
      "1 -11080.598633 -9336.948242 -50917.480469 -8008.665039 ... -31957.037109   \n",
      "2 -11080.205078 -9336.787109 -50951.457031 -8010.721191 ... -32048.822266   \n",
      "3 -11071.533203 -9329.348633 -50996.410156 -8014.029297 ... -32114.500000   \n",
      "4 -11068.529297 -9326.237305 -50985.449219 -8013.957520 ... -32055.687500   \n",
      "\n",
      "            16           17          18           19           20  \\\n",
      "0 -2176.916504  1054.269043 -278.681519 -7274.222168 -3945.225586   \n",
      "1 -2177.864258  1053.464355 -279.504059 -7277.244141 -3948.301025   \n",
      "2 -2177.703369  1055.860474 -267.416229 -7268.804199 -3945.547363   \n",
      "3 -2170.890625  1055.306152 -272.262085 -7271.772461 -3944.420898   \n",
      "4 -2166.974609  1051.783569 -292.736298 -7280.552246 -3941.345215   \n",
      "\n",
      "            21            22        23  24  \n",
      "0 -6778.085449 -13151.800781 -0.017881   1  \n",
      "1 -6778.389160 -13150.459961 -0.017881   1  \n",
      "2 -6757.933105 -13144.469727 -0.017881   1  \n",
      "3 -6781.822266 -13149.744141 -0.017881   1  \n",
      "4 -6793.892578 -13160.133789 -0.017881   1  \n",
      "\n",
      "[5 rows x 25 columns]\n"
     ]
    }
   ],
   "source": [
    "temp = data['data_cur']\n",
    "temp = temp.T\n",
    "names_df = ['field' + str(i+1) for i in range(temp.shape[1])]\n",
    "#tempdf = pd.DataFrame(temp, columns= names_df)\n",
    "tempdf = pd.DataFrame(temp)\n",
    "#tempdf['classification'] = data['states_cur'][0] \n",
    "tempdf[24] = [0 if i == 6 else i for i in data['states_cur'][0]]\n",
    "print tempdf.head()"
   ]
  },
  {
   "cell_type": "code",
   "execution_count": null,
   "metadata": {
    "collapsed": false
   },
   "outputs": [],
   "source": []
  },
  {
   "cell_type": "code",
   "execution_count": 21,
   "metadata": {
    "collapsed": false
   },
   "outputs": [
    {
     "name": "stdout",
     "output_type": "stream",
     "text": [
      "field1,field2,field3,field4,field5,field6,field7,field8,field9,field10,field11,field12,field13,field14,field15,field16,field17,field18,field19,field20,field21,field22,field23,field24,classification\n",
      "float,float,float,float,float,float,float,float,float,float,float,float,float,float,float,float,float,float,float,float,float,float,float,float,int\n",
      ",,,,,,,,,,,,,,,,,,,,,,,,C\n"
     ]
    }
   ],
   "source": [
    "nfields = len(tempdf.columns) - 1\n",
    "new_header = [names_df + ['classification'], ['float'] * nfields + ['int'],\n",
    "              [''] * nfields + ['C'] ]\n",
    "for i in new_header:\n",
    "    i = ','.join(i)\n",
    "    print i\n"
   ]
  },
  {
   "cell_type": "code",
   "execution_count": null,
   "metadata": {
    "collapsed": true
   },
   "outputs": [],
   "source": [
    "with open('./lab_data/24chan/24chan_data_1.csv', 'wb') as csvfile:\n",
    "    filewriter = csv.writer(csvfile, #delimiter=' ',\n",
    "                            quotechar='|', quoting=csv.QUOTE_MINIMAL)\n",
    "    for line in new_header:\n",
    "        filewriter.writerow(line)\n",
    "    tempdf.to_csv(csvfile, header = False, index = False)"
   ]
  },
  {
   "cell_type": "code",
   "execution_count": 14,
   "metadata": {
    "collapsed": false
   },
   "outputs": [
    {
     "name": "stdout",
     "output_type": "stream",
     "text": [
      "1 -3648.39428711 0.0\n",
      "2 -3930.25878906 0.0\n",
      "3 -5998.58154297 0.0\n",
      "4 -147.789718628 453.811889648\n",
      "5 0.0 314.462188721\n",
      "6 -1015.77044678 0.0\n",
      "7 -11088.2695312 0.0\n",
      "8 -9336.94824219 0.0\n",
      "9 -52709.5898438 0.0\n",
      "10 -8252.37011719 0.0\n",
      "11 0.0 2848.23779297\n",
      "12 -6205.79101562 0.0\n",
      "13 0.0 2256.07763672\n",
      "14 0.0 0.0\n",
      "15 -13038.59375 0.0\n",
      "16 -32720.9296875 0.0\n",
      "17 -2177.86425781 0.0\n",
      "18 0.0 1145.01708984\n",
      "19 -292.736297607 28.3062458038\n",
      "20 -7302.90429688 0.0\n",
      "21 -3948.30102539 0.0\n",
      "22 -6918.31103516 0.0\n",
      "23 -13195.2167969 0.0\n",
      "24 -0.0178813934326 0.0\n",
      "25 1 6\n"
     ]
    }
   ],
   "source": [
    "for i in tempdf.columns:\n",
    "    print i+1, min(tempdf[i]), max(tempdf[i])\n",
    "# mincol, maxcol = [min(tempdf[i]) for i in tempdf.columns], [max(tempdf[i]) for i in tempdf.columns] \n",
    "# print min(mincol), max(maxcol)\n",
    "# print mincol\n",
    "# print maxcol"
   ]
  },
  {
   "cell_type": "code",
   "execution_count": 22,
   "metadata": {
    "collapsed": false
   },
   "outputs": [],
   "source": [
    "train_index, test_index = train_test_split(range(tempdf.shape[0]), test_size=0.33, random_state=42)\n",
    "train_index.sort(), test_index.sort()\n",
    "\n",
    "traindf, testdf = tempdf.iloc[train_index], tempdf.iloc[test_index]\n",
    "\n",
    "#traindf, testdf = train_test_split(tempdf, test_size=0.33, random_state=42)\n",
    "\n",
    "\n",
    "with open('./lab_data/24chan/24chan_train1.csv', 'wb') as csvfile:\n",
    "    filewriter = csv.writer(csvfile, #delimiter=' ',\n",
    "                            quotechar='|', quoting=csv.QUOTE_MINIMAL)\n",
    "    for line in new_header:\n",
    "        filewriter.writerow(line)\n",
    "    traindf.to_csv(csvfile, header = False, index = False)\n",
    "\n",
    "with open('./lab_data/24chan/24chan_test1.csv', 'wb') as csvfile:\n",
    "    filewriter = csv.writer(csvfile, #delimiter=' ',\n",
    "                            quotechar='|', quoting=csv.QUOTE_MINIMAL)\n",
    "    for line in new_header:\n",
    "        filewriter.writerow(line)\n",
    "    testdf.to_csv(csvfile, header = False, index = False)"
   ]
  },
  {
   "cell_type": "code",
   "execution_count": 23,
   "metadata": {
    "collapsed": false
   },
   "outputs": [
    {
     "name": "stdout",
     "output_type": "stream",
     "text": [
      "(67480, 25)\n",
      "(33237, 25)\n"
     ]
    }
   ],
   "source": [
    "print traindf.shape\n",
    "print testdf.shape\n",
    "\n",
    "# print traindf.head\n",
    "# print testdf.head"
   ]
  }
 ],
 "metadata": {
  "kernelspec": {
   "display_name": "Python 2",
   "language": "python",
   "name": "python2"
  },
  "language_info": {
   "codemirror_mode": {
    "name": "ipython",
    "version": 2
   },
   "file_extension": ".py",
   "mimetype": "text/x-python",
   "name": "python",
   "nbconvert_exporter": "python",
   "pygments_lexer": "ipython2",
   "version": "2.7.11"
  }
 },
 "nbformat": 4,
 "nbformat_minor": 0
}
