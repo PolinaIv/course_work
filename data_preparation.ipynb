{
 "cells": [
  {
   "cell_type": "code",
   "execution_count": 1,
   "metadata": {
    "collapsed": false
   },
   "outputs": [],
   "source": [
    "import numpy as np\n",
    "import matplotlib.pyplot as plt\n",
    "%matplotlib inline\n",
    "import scipy.io\n",
    "from operator import itemgetter\n",
    "import pandas as pd\n",
    "from sklearn.cross_validation import train_test_split\n",
    "\n",
    "import csv\n",
    "import nupic"
   ]
  },
  {
   "cell_type": "markdown",
   "metadata": {},
   "source": [
    "## Table of contents\n",
    "* Old, from folder \"code\" with matlab files ( By A.E. )\n",
    "* 24 channel's data\n",
    "* 24 channel's data: CrossValidation\n",
    "* 24 channel's data with resample: CrossValidation"
   ]
  },
  {
   "cell_type": "markdown",
   "metadata": {},
   "source": [
    "### 1. 24 channel's data "
   ]
  },
  {
   "cell_type": "code",
   "execution_count": 2,
   "metadata": {
    "collapsed": false
   },
   "outputs": [
    {
     "name": "stdout",
     "output_type": "stream",
     "text": [
      "['__version__', '__globals__', '__header__', 'chan_names', 'states_cur', 'data_cur', 'srate']\n",
      "(24, 100717) (1, 100717)\n",
      "[[ -3.02503101e+03  -3.02501318e+03  -3.02519214e+03 ...,   0.00000000e+00\n",
      "    0.00000000e+00   0.00000000e+00]\n",
      " [ -3.89819751e+03  -3.90012866e+03  -3.90227441e+03 ...,   0.00000000e+00\n",
      "    0.00000000e+00   0.00000000e+00]\n",
      " [ -5.94164746e+03  -5.93876855e+03  -5.93717676e+03 ...,   0.00000000e+00\n",
      "    0.00000000e+00   0.00000000e+00]\n",
      " ..., \n",
      " [ -6.77808545e+03  -6.77838916e+03  -6.75793311e+03 ...,   0.00000000e+00\n",
      "    0.00000000e+00   0.00000000e+00]\n",
      " [ -1.31518008e+04  -1.31504600e+04  -1.31444697e+04 ...,   0.00000000e+00\n",
      "    0.00000000e+00   0.00000000e+00]\n",
      " [ -1.78813934e-02  -1.78813934e-02  -1.78813934e-02 ...,   0.00000000e+00\n",
      "    0.00000000e+00   0.00000000e+00]]\n"
     ]
    }
   ],
   "source": [
    "data_1 = scipy.io.loadmat('./lab_data/24chan/alex_long_1.mat')\n",
    "data_2 = scipy.io.loadmat('./lab_data/24chan/alex_long_2.mat')\n",
    "print data_1.keys()\n",
    "print data_1['data_cur'].shape, data_1['states_cur'].shape\n",
    "print data_1['data_cur']"
   ]
  },
  {
   "cell_type": "code",
   "execution_count": 3,
   "metadata": {
    "collapsed": false
   },
   "outputs": [
    {
     "name": "stdout",
     "output_type": "stream",
     "text": [
      "[1 1 1 ..., 6 6 6] [1 1 1 ..., 6 6 6]\n",
      "[1 2 6] [1 2 6]\n"
     ]
    },
    {
     "data": {
      "text/plain": [
       "[<matplotlib.lines.Line2D at 0x7f724ca69550>]"
      ]
     },
     "execution_count": 3,
     "metadata": {},
     "output_type": "execute_result"
    },
    {
     "data": {
      "image/png": "[encoded data removed]",
      "text/plain": [
       "<matplotlib.figure.Figure at 0x7f724ca695d0>"
      ]
     },
     "metadata": {},
     "output_type": "display_data"
    }
   ],
   "source": [
    "print data_1['states_cur'][0], data_2['states_cur'][0]\n",
    "print np.unique(data_1['states_cur'][0]), np.unique(data_2['states_cur'][0])\n",
    "plt.figure(2, figsize = (8,6))\n",
    "plt.subplot(2, 1, 1)\n",
    "plt.plot(range(len(data_1['states_cur'][0])), data_1['states_cur'][0], '.r')\n",
    "\n",
    "plt.subplot(2, 1, 2)\n",
    "plt.plot(range(len(data_2['states_cur'][0])), data_2['states_cur'][0], '.r')"
   ]
  },
  {
   "cell_type": "code",
   "execution_count": 4,
   "metadata": {
    "collapsed": false
   },
   "outputs": [
    {
     "data": {
      "text/plain": [
       "[<matplotlib.lines.Line2D at 0x7f721568a450>]"
      ]
     },
     "execution_count": 4,
     "metadata": {},
     "output_type": "execute_result"
    },
    {
     "data": {
      "image/png": "[encoded data removed]",
      "text/plain": [
       "<matplotlib.figure.Figure at 0x7f721a80c7d0>"
      ]
     },
     "metadata": {},
     "output_type": "display_data"
    }
   ],
   "source": [
    "plt.plot(range(len(data_1['states_cur'][0])), data_1['data_cur'][0], '-b')\n",
    "plt.plot(range(len(data_1['states_cur'][0])), data_1['data_cur'][1], '-r')\n",
    "plt.plot(range(len(data_1['states_cur'][0])), data_1['data_cur'][2], '-g')"
   ]
  },
  {
   "cell_type": "code",
   "execution_count": 3,
   "metadata": {
    "collapsed": false
   },
   "outputs": [
    {
     "name": "stdout",
     "output_type": "stream",
     "text": [
      "            0            1            2           3           4           5   \\\n",
      "0 -3025.031006 -3898.197510 -5941.647461 -143.265717  223.767761 -896.394226   \n",
      "1 -3025.013184 -3900.128662 -5938.768555 -139.367584  225.287674 -896.894958   \n",
      "2 -3025.192139 -3902.274414 -5937.176758 -138.205292  225.430725 -896.054504   \n",
      "3 -3022.474121 -3898.537109 -5932.116699 -136.184692  228.291748 -893.175598   \n",
      "4 -3019.648682 -3890.043457 -5928.969238 -131.589172  232.779984 -891.941772   \n",
      "\n",
      "             6            7             8            9  ...            15  \\\n",
      "0 -11081.028320 -9336.876953 -50944.109375 -8007.466797 ... -31958.019531   \n",
      "1 -11080.598633 -9336.948242 -50917.480469 -8008.665039 ... -31957.037109   \n",
      "2 -11080.205078 -9336.787109 -50951.457031 -8010.721191 ... -32048.822266   \n",
      "3 -11071.533203 -9329.348633 -50996.410156 -8014.029297 ... -32114.500000   \n",
      "4 -11068.529297 -9326.237305 -50985.449219 -8013.957520 ... -32055.687500   \n",
      "\n",
      "            16           17          18           19           20  \\\n",
      "0 -2176.916504  1054.269043 -278.681519 -7274.222168 -3945.225586   \n",
      "1 -2177.864258  1053.464355 -279.504059 -7277.244141 -3948.301025   \n",
      "2 -2177.703369  1055.860474 -267.416229 -7268.804199 -3945.547363   \n",
      "3 -2170.890625  1055.306152 -272.262085 -7271.772461 -3944.420898   \n",
      "4 -2166.974609  1051.783569 -292.736298 -7280.552246 -3941.345215   \n",
      "\n",
      "            21            22        23  24  \n",
      "0 -6778.085449 -13151.800781 -0.017881   1  \n",
      "1 -6778.389160 -13150.459961 -0.017881   1  \n",
      "2 -6757.933105 -13144.469727 -0.017881   1  \n",
      "3 -6781.822266 -13149.744141 -0.017881   1  \n",
      "4 -6793.892578 -13160.133789 -0.017881   1  \n",
      "\n",
      "[5 rows x 25 columns]\n"
     ]
    }
   ],
   "source": [
    "temp = data_1['data_cur'].T\n",
    "names_df = ['field' + str(i+1) for i in range(temp.shape[1])]\n",
    "tempdf1 = pd.DataFrame(temp)\n",
    "tempdf1[24] = [0 if i == 6 else i for i in data_1['states_cur'][0]]\n",
    "\n",
    "temp = data_2['data_cur'].T\n",
    "tempdf2 = pd.DataFrame(temp)\n",
    "tempdf2[24] = [0 if i == 6 else i for i in data_2['states_cur'][0]]\n",
    "\n",
    "print tempdf1.head()"
   ]
  },
  {
   "cell_type": "code",
   "execution_count": 6,
   "metadata": {
    "collapsed": false
   },
   "outputs": [
    {
     "name": "stdout",
     "output_type": "stream",
     "text": [
      "[ 0.]\n",
      "[ 0.]\n"
     ]
    }
   ],
   "source": [
    "print np.unique(data_1['data_cur'][13])\n",
    "print np.unique(data_2['data_cur'][13])"
   ]
  },
  {
   "cell_type": "markdown",
   "metadata": {},
   "source": [
    "### Замечание\n",
    "Поскольку в field14 все нули, уберем его"
   ]
  },
  {
   "cell_type": "code",
   "execution_count": 4,
   "metadata": {
    "collapsed": false
   },
   "outputs": [],
   "source": [
    "tempdf1 = tempdf1.drop(13, 1)\n",
    "tempdf2 = tempdf2.drop(13, 1)\n",
    "names_df = ['field' + str(i+1) if (i+1 < 14) else 'field' + str(i+2) for i in range(tempdf1.shape[1] - 1)]"
   ]
  },
  {
   "cell_type": "code",
   "execution_count": 5,
   "metadata": {
    "collapsed": false
   },
   "outputs": [
    {
     "name": "stdout",
     "output_type": "stream",
     "text": [
      "field1,field2,field3,field4,field5,field6,field7,field8,field9,field10,field11,field12,field13,field15,field16,field17,field18,field19,field20,field21,field22,field23,field24,classification\n",
      "float,float,float,float,float,float,float,float,float,float,float,float,float,float,float,float,float,float,float,float,float,float,float,int\n",
      "S,S,S,S,S,S,S,S,S,S,S,S,S,S,S,S,S,S,S,S,S,S,S,C\n"
     ]
    }
   ],
   "source": [
    "nfields = len(tempdf1.columns) - 1\n",
    "new_header = [names_df + ['classification'], ['float'] * (nfields) + ['int'],\n",
    "              ['S'] * nfields + ['C'] ]\n",
    "for i in new_header:\n",
    "    i = ','.join(i)\n",
    "    print i"
   ]
  },
  {
   "cell_type": "code",
   "execution_count": 9,
   "metadata": {
    "collapsed": true
   },
   "outputs": [],
   "source": [
    "with open('./lab_data/24chan/24chan_train_full.csv', 'wb') as csvfile:\n",
    "    filewriter = csv.writer(csvfile, #delimiter=' ',\n",
    "                            quotechar='|', quoting=csv.QUOTE_MINIMAL)\n",
    "    for line in new_header:\n",
    "        filewriter.writerow(line)\n",
    "    tempdf1.to_csv(csvfile, header = False, index = False)\n",
    "\n",
    "with open('./lab_data/24chan/24chan_test_full.csv', 'wb') as csvfile:\n",
    "    filewriter = csv.writer(csvfile, #delimiter=' ',\n",
    "                            quotechar='|', quoting=csv.QUOTE_MINIMAL)\n",
    "    for line in new_header:\n",
    "        filewriter.writerow(line)\n",
    "    tempdf2.to_csv(csvfile, header = False, index = False)"
   ]
  },
  {
   "cell_type": "code",
   "execution_count": 9,
   "metadata": {
    "collapsed": false
   },
   "outputs": [
    {
     "name": "stdout",
     "output_type": "stream",
     "text": [
      "MIN and MAX values for each column\n",
      "1 -3648.39428711 0.0\n",
      "2 -3930.25878906 0.0\n",
      "3 -5998.58154297 0.0\n",
      "4 -147.789718628 453.811889648\n",
      "5 0.0 314.462188721\n",
      "6 -1015.77044678 0.0\n",
      "7 -11088.2695312 0.0\n",
      "8 -9336.94824219 0.0\n",
      "9 -52709.5898438 0.0\n",
      "10 -8252.37011719 0.0\n",
      "11 0.0 2848.23779297\n",
      "12 -6205.79101562 0.0\n",
      "13 0.0 2256.07763672\n",
      "15 -13038.59375 0.0\n",
      "16 -32720.9296875 0.0\n",
      "17 -2177.86425781 0.0\n",
      "18 0.0 1145.01708984\n",
      "19 -292.736297607 28.3062458038\n",
      "20 -7302.90429688 0.0\n",
      "21 -3948.30102539 0.0\n",
      "22 -6918.31103516 0.0\n",
      "23 -13195.2167969 0.0\n",
      "24 -0.0178813934326 0.0\n",
      "25 0 2\n"
     ]
    }
   ],
   "source": [
    "print \"MIN and MAX values for each column\"\n",
    "for i in tempdf.columns:\n",
    "    print i+1, min(tempdf[i]), max(tempdf[i])"
   ]
  },
  {
   "cell_type": "markdown",
   "metadata": {},
   "source": [
    "### 3. 24 channel's data: CrossValidation"
   ]
  },
  {
   "cell_type": "code",
   "execution_count": 10,
   "metadata": {
    "collapsed": false
   },
   "outputs": [],
   "source": [
    "train_index, test_index = train_test_split(range(tempdf.shape[0]), test_size=0.33, random_state=42)\n",
    "#train_index.sort(), test_index.sort()\n",
    "\n",
    "traindf, testdf = tempdf.iloc[train_index], tempdf.iloc[test_index]\n",
    "\n",
    "#traindf, testdf = train_test_split(tempdf, test_size=0.33, random_state=42)\n",
    "\n",
    "\n",
    "with open('./lab_data/24chan/24chan_train1.csv', 'wb') as csvfile:\n",
    "    filewriter = csv.writer(csvfile, #delimiter=' ',\n",
    "                            quotechar='|', quoting=csv.QUOTE_MINIMAL)\n",
    "    for line in new_header:\n",
    "        filewriter.writerow(line)\n",
    "    traindf.to_csv(csvfile, header = False, index = False)\n",
    "\n",
    "with open('./lab_data/24chan/24chan_test1.csv', 'wb') as csvfile:\n",
    "    filewriter = csv.writer(csvfile, #delimiter=' ',\n",
    "                            quotechar='|', quoting=csv.QUOTE_MINIMAL)\n",
    "    for line in new_header:\n",
    "        filewriter.writerow(line)\n",
    "    testdf.to_csv(csvfile, header = False, index = False)"
   ]
  },
  {
   "cell_type": "code",
   "execution_count": 11,
   "metadata": {
    "collapsed": false
   },
   "outputs": [
    {
     "name": "stdout",
     "output_type": "stream",
     "text": [
      "(67480, 24)\n",
      "(33237, 24)\n"
     ]
    }
   ],
   "source": [
    "print traindf.shape\n",
    "print testdf.shape\n",
    "\n",
    "# print traindf.head\n",
    "# print testdf.head"
   ]
  },
  {
   "cell_type": "markdown",
   "metadata": {},
   "source": [
    "### 4. 24 channel's data with resample"
   ]
  },
  {
   "cell_type": "code",
   "execution_count": 6,
   "metadata": {
    "collapsed": true
   },
   "outputs": [],
   "source": [
    "from scipy import signal"
   ]
  },
  {
   "cell_type": "code",
   "execution_count": 8,
   "metadata": {
    "collapsed": false
   },
   "outputs": [
    {
     "name": "stdout",
     "output_type": "stream",
     "text": [
      "20144 20121\n"
     ]
    }
   ],
   "source": [
    "resample_num1 = tempdf1.shape[0] // 5 + 1\n",
    "resample_num2 = tempdf2.shape[0] // 5 + 1\n",
    "print resample_num1, resample_num2\n",
    "df_resample1 = signal.resample(tempdf1, resample_num1)\n",
    "df_resample2 = signal.resample(tempdf2, resample_num2)"
   ]
  },
  {
   "cell_type": "code",
   "execution_count": 9,
   "metadata": {
    "collapsed": false
   },
   "outputs": [],
   "source": [
    "df_resample1 = pd.DataFrame(df_resample1)\n",
    "df_resample2 = pd.DataFrame(df_resample2)\n",
    "nfields = len(tempdf1.columns)\n",
    "# Below for tempdf we use nfields (but not nfields - 1) because we delete 'field14' previously\n",
    "df_resample1[nfields - 1] = np.array((tempdf1[nfields])[0::5])\n",
    "df_resample2[nfields - 1] = np.array((tempdf2[nfields])[0::5])"
   ]
  },
  {
   "cell_type": "code",
   "execution_count": 10,
   "metadata": {
    "collapsed": false
   },
   "outputs": [
    {
     "name": "stdout",
     "output_type": "stream",
     "text": [
      "[['field1', 'field2', 'field3', 'field4', 'field5', 'field6', 'field7', 'field8', 'field9', 'field10', 'field11', 'field12', 'field13', 'field15', 'field16', 'field17', 'field18', 'field19', 'field20', 'field21', 'field22', 'field23', 'field24', 'classification'], ['float', 'float', 'float', 'float', 'float', 'float', 'float', 'float', 'float', 'float', 'float', 'float', 'float', 'float', 'float', 'float', 'float', 'float', 'float', 'float', 'float', 'float', 'float', 'int'], ['S', 'S', 'S', 'S', 'S', 'S', 'S', 'S', 'S', 'S', 'S', 'S', 'S', 'S', 'S', 'S', 'S', 'S', 'S', 'S', 'S', 'S', 'S', 'C']]\n"
     ]
    }
   ],
   "source": [
    "print new_header\n",
    "\n",
    "with open('./lab_data/24chan/24chan_train_resample.csv', 'wb') as csvfile:\n",
    "    filewriter = csv.writer(csvfile, #delimiter=' ',\n",
    "                            quotechar='|', quoting=csv.QUOTE_MINIMAL)\n",
    "    for line in new_header:\n",
    "        filewriter.writerow(line)\n",
    "    df_resample1.to_csv(csvfile, header = False, index = False)\n",
    "\n",
    "with open('./lab_data/24chan/24chan_test_resample.csv', 'wb') as csvfile:\n",
    "    filewriter = csv.writer(csvfile, #delimiter=' ',\n",
    "                            quotechar='|', quoting=csv.QUOTE_MINIMAL)\n",
    "    for line in new_header:\n",
    "        filewriter.writerow(line)\n",
    "    df_resample2.to_csv(csvfile, header = False, index = False)"
   ]
  },
  {
   "cell_type": "code",
   "execution_count": 12,
   "metadata": {
    "collapsed": false
   },
   "outputs": [
    {
     "data": {
      "text/html": [
       "<div>\n",
       "<table border=\"1\" class=\"dataframe\">\n",
       "  <thead>\n",
       "    <tr style=\"text-align: right;\">\n",
       "      <th></th>\n",
       "      <th>0</th>\n",
       "      <th>1</th>\n",
       "      <th>2</th>\n",
       "      <th>3</th>\n",
       "      <th>4</th>\n",
       "      <th>5</th>\n",
       "      <th>6</th>\n",
       "      <th>7</th>\n",
       "      <th>8</th>\n",
       "      <th>9</th>\n",
       "      <th>...</th>\n",
       "      <th>14</th>\n",
       "      <th>15</th>\n",
       "      <th>16</th>\n",
       "      <th>17</th>\n",
       "      <th>18</th>\n",
       "      <th>19</th>\n",
       "      <th>20</th>\n",
       "      <th>21</th>\n",
       "      <th>22</th>\n",
       "      <th>23</th>\n",
       "    </tr>\n",
       "  </thead>\n",
       "  <tbody>\n",
       "    <tr>\n",
       "      <th>0</th>\n",
       "      <td>-1698.267973</td>\n",
       "      <td>-2227.094048</td>\n",
       "      <td>-3371.315295</td>\n",
       "      <td>-97.694010</td>\n",
       "      <td>127.799416</td>\n",
       "      <td>-506.481208</td>\n",
       "      <td>-6300.111766</td>\n",
       "      <td>-5321.451151</td>\n",
       "      <td>-29131.319062</td>\n",
       "      <td>-4542.698801</td>\n",
       "      <td>...</td>\n",
       "      <td>-18236.154924</td>\n",
       "      <td>-1270.553752</td>\n",
       "      <td>597.755956</td>\n",
       "      <td>-165.251096</td>\n",
       "      <td>-4131.301810</td>\n",
       "      <td>-2270.282505</td>\n",
       "      <td>-3843.896158</td>\n",
       "      <td>-7473.050101</td>\n",
       "      <td>-0.010157</td>\n",
       "      <td>1</td>\n",
       "    </tr>\n",
       "    <tr>\n",
       "      <th>1</th>\n",
       "      <td>-3369.874326</td>\n",
       "      <td>-4316.491042</td>\n",
       "      <td>-6588.686680</td>\n",
       "      <td>-135.312760</td>\n",
       "      <td>255.609132</td>\n",
       "      <td>-993.467705</td>\n",
       "      <td>-12284.616892</td>\n",
       "      <td>-10340.446605</td>\n",
       "      <td>-56461.443767</td>\n",
       "      <td>-8903.983556</td>\n",
       "      <td>...</td>\n",
       "      <td>-35496.177903</td>\n",
       "      <td>-2377.788449</td>\n",
       "      <td>1170.531026</td>\n",
       "      <td>-306.322645</td>\n",
       "      <td>-8077.320842</td>\n",
       "      <td>-4353.887321</td>\n",
       "      <td>-7536.446236</td>\n",
       "      <td>-14602.891801</td>\n",
       "      <td>-0.019854</td>\n",
       "      <td>1</td>\n",
       "    </tr>\n",
       "    <tr>\n",
       "      <th>2</th>\n",
       "      <td>-2811.257545</td>\n",
       "      <td>-3658.006301</td>\n",
       "      <td>-5531.576713</td>\n",
       "      <td>-133.670115</td>\n",
       "      <td>213.237065</td>\n",
       "      <td>-831.317236</td>\n",
       "      <td>-10307.883984</td>\n",
       "      <td>-8682.424745</td>\n",
       "      <td>-47911.824102</td>\n",
       "      <td>-7490.667516</td>\n",
       "      <td>...</td>\n",
       "      <td>-29916.413440</td>\n",
       "      <td>-1994.960027</td>\n",
       "      <td>983.868491</td>\n",
       "      <td>-262.532320</td>\n",
       "      <td>-6780.594518</td>\n",
       "      <td>-3679.653335</td>\n",
       "      <td>-6323.989823</td>\n",
       "      <td>-12280.181197</td>\n",
       "      <td>-0.016695</td>\n",
       "      <td>1</td>\n",
       "    </tr>\n",
       "    <tr>\n",
       "      <th>3</th>\n",
       "      <td>-3179.638859</td>\n",
       "      <td>-4083.630729</td>\n",
       "      <td>-6209.133002</td>\n",
       "      <td>-124.761629</td>\n",
       "      <td>242.276280</td>\n",
       "      <td>-935.320482</td>\n",
       "      <td>-11575.337707</td>\n",
       "      <td>-9736.468248</td>\n",
       "      <td>-53493.046353</td>\n",
       "      <td>-8418.065282</td>\n",
       "      <td>...</td>\n",
       "      <td>-33551.156148</td>\n",
       "      <td>-2213.031779</td>\n",
       "      <td>1108.725202</td>\n",
       "      <td>-276.657752</td>\n",
       "      <td>-7609.464653</td>\n",
       "      <td>-4097.144396</td>\n",
       "      <td>-7095.800344</td>\n",
       "      <td>-13778.385985</td>\n",
       "      <td>-0.018743</td>\n",
       "      <td>1</td>\n",
       "    </tr>\n",
       "    <tr>\n",
       "      <th>4</th>\n",
       "      <td>-2901.991291</td>\n",
       "      <td>-3765.819520</td>\n",
       "      <td>-5697.672109</td>\n",
       "      <td>-133.261729</td>\n",
       "      <td>219.803744</td>\n",
       "      <td>-855.493145</td>\n",
       "      <td>-10623.974871</td>\n",
       "      <td>-8946.833963</td>\n",
       "      <td>-49270.966940</td>\n",
       "      <td>-7730.627723</td>\n",
       "      <td>...</td>\n",
       "      <td>-30822.877428</td>\n",
       "      <td>-2054.510161</td>\n",
       "      <td>1015.984914</td>\n",
       "      <td>-264.477199</td>\n",
       "      <td>-6980.175672</td>\n",
       "      <td>-3782.269789</td>\n",
       "      <td>-6514.289777</td>\n",
       "      <td>-12651.336645</td>\n",
       "      <td>-0.017200</td>\n",
       "      <td>1</td>\n",
       "    </tr>\n",
       "  </tbody>\n",
       "</table>\n",
       "<p>5 rows × 24 columns</p>\n",
       "</div>"
      ],
      "text/plain": [
       "            0            1            2           3           4           5   \\\n",
       "0 -1698.267973 -2227.094048 -3371.315295  -97.694010  127.799416 -506.481208   \n",
       "1 -3369.874326 -4316.491042 -6588.686680 -135.312760  255.609132 -993.467705   \n",
       "2 -2811.257545 -3658.006301 -5531.576713 -133.670115  213.237065 -831.317236   \n",
       "3 -3179.638859 -4083.630729 -6209.133002 -124.761629  242.276280 -935.320482   \n",
       "4 -2901.991291 -3765.819520 -5697.672109 -133.261729  219.803744 -855.493145   \n",
       "\n",
       "             6             7             8            9  ...            14  \\\n",
       "0  -6300.111766  -5321.451151 -29131.319062 -4542.698801 ... -18236.154924   \n",
       "1 -12284.616892 -10340.446605 -56461.443767 -8903.983556 ... -35496.177903   \n",
       "2 -10307.883984  -8682.424745 -47911.824102 -7490.667516 ... -29916.413440   \n",
       "3 -11575.337707  -9736.468248 -53493.046353 -8418.065282 ... -33551.156148   \n",
       "4 -10623.974871  -8946.833963 -49270.966940 -7730.627723 ... -30822.877428   \n",
       "\n",
       "            15           16          17           18           19  \\\n",
       "0 -1270.553752   597.755956 -165.251096 -4131.301810 -2270.282505   \n",
       "1 -2377.788449  1170.531026 -306.322645 -8077.320842 -4353.887321   \n",
       "2 -1994.960027   983.868491 -262.532320 -6780.594518 -3679.653335   \n",
       "3 -2213.031779  1108.725202 -276.657752 -7609.464653 -4097.144396   \n",
       "4 -2054.510161  1015.984914 -264.477199 -6980.175672 -3782.269789   \n",
       "\n",
       "            20            21        22  23  \n",
       "0 -3843.896158  -7473.050101 -0.010157   1  \n",
       "1 -7536.446236 -14602.891801 -0.019854   1  \n",
       "2 -6323.989823 -12280.181197 -0.016695   1  \n",
       "3 -7095.800344 -13778.385985 -0.018743   1  \n",
       "4 -6514.289777 -12651.336645 -0.017200   1  \n",
       "\n",
       "[5 rows x 24 columns]"
      ]
     },
     "execution_count": 12,
     "metadata": {},
     "output_type": "execute_result"
    }
   ],
   "source": [
    "df_resample1.head()"
   ]
  }
 ],
 "metadata": {
  "kernelspec": {
   "display_name": "Python 2",
   "language": "python",
   "name": "python2"
  },
  "language_info": {
   "codemirror_mode": {
    "name": "ipython",
    "version": 2
   },
   "file_extension": ".py",
   "mimetype": "text/x-python",
   "name": "python",
   "nbconvert_exporter": "python",
   "pygments_lexer": "ipython2",
   "version": "2.7.11"
  }
 },
 "nbformat": 4,
 "nbformat_minor": 0
}
